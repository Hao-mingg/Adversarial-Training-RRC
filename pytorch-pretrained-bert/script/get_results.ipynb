{
 "cells": [
  {
   "cell_type": "code",
   "execution_count": 4,
   "metadata": {},
   "outputs": [],
   "source": [
    "import os\n",
    "import subprocess\n",
    "import json\n",
    "import numpy as np\n",
    "import sklearn.metrics\n",
    "import sys\n",
    "from run_rrc_python import run_rrc_python"
   ]
  },
  {
   "cell_type": "code",
   "execution_count": 5,
   "metadata": {},
   "outputs": [],
   "source": [
    "def evaluate(tasks, berts, domains, runs=10, dropout=0.0, epsilon=0.0):\n",
    "    for task in tasks:\n",
    "        for bert in berts:\n",
    "            for domain in domains:\n",
    "                scores=[]\n",
    "                run_rrc_python(task, bert, domain, \"pt_rrc\", runs, \"0\", dropout, epsilon)\n",
    "                for run in range(1, runs+1):\n",
    "                    DATA_DIR=os.path.join(task, domain)\n",
    "                    OUTPUT_DIR=os.path.join(\"run\", bert+\"_\"+task, domain, str(run) )\n",
    "                    if \"rrc\" in task:\n",
    "                        ret=!python ../eval/evaluate-v1.1.py ../$DATA_DIR/test.json ../$OUTPUT_DIR/predictions.json\n",
    "                        score=json.loads(ret[0])\n",
    "                        scores.append([score[\"exact_match\"], score[\"f1\"] ] )\n",
    "                    else:\n",
    "                        raise Exception(\"unknown task\")\n",
    "                scores=np.array(scores)\n",
    "                m=scores.mean(axis=0)\n",
    "\n",
    "                if \"rrc\" in task:\n",
    "                    em, f1 = m\n",
    "                    return em, f1"
   ]
  },
  {
   "cell_type": "code",
   "execution_count": 8,
   "metadata": {},
   "outputs": [
    {
     "name": "stdout",
     "output_type": "stream",
     "text": [
      "epoch dropout epsilon em f1\n",
      "3 0.0 0.0 51.38 68.13\n"
     ]
    }
   ],
   "source": [
    "epochs = list(range(3, 11))\n",
    "dropouts = [0.0, 0.1, 0.2, 0.3, 0.4, 0.5, 0.6, 0.7, 0.8, 0.9]\n",
    "epsilons = [0.0, 0.2, 0.5, 1.0, 2.0, 5.0]\n",
    "\n",
    "tasks=[\"rrc\"]\n",
    "berts=[\"pt\"]\n",
    "domains=[\"laptop\"]\n",
    "\n",
    "print(\"epoch dropout epsilon em f1\")\n",
    "for dropout in dropouts:\n",
    "    for epsilon in epsilons:\n",
    "        em, f1 = evaluate(tasks, berts, domains, 3, dropout, epsilon)\n",
    "        print(\"3 {} {} {} {}\".format(dropout, epsilon, round(em, 2), round(f1, 2)))\n"
   ]
  }
 ],
 "metadata": {
  "kernelspec": {
   "display_name": "bert_env",
   "language": "python",
   "name": "python3"
  },
  "language_info": {
   "codemirror_mode": {
    "name": "ipython",
    "version": 3
   },
   "file_extension": ".py",
   "mimetype": "text/x-python",
   "name": "python",
   "nbconvert_exporter": "python",
   "pygments_lexer": "ipython3",
   "version": "3.11.11"
  }
 },
 "nbformat": 4,
 "nbformat_minor": 2
}
