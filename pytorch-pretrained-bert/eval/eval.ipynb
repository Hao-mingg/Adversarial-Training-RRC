{
 "cells": [
  {
   "cell_type": "code",
   "execution_count": 1,
   "metadata": {
    "ExecuteTime": {
     "end_time": "2025-02-05T15:13:52.405749500Z",
     "start_time": "2025-02-05T15:13:51.890784700Z"
    }
   },
   "outputs": [],
   "source": [
    "import json\n",
    "import os\n",
    "import sklearn.metrics\n",
    "import numpy as np"
   ]
  },
  {
   "cell_type": "markdown",
   "source": [],
   "metadata": {
    "collapsed": false
   }
  },
  {
   "cell_type": "code",
   "execution_count": 25,
   "metadata": {
    "ExecuteTime": {
     "end_time": "2025-02-05T15:55:42.487269Z",
     "start_time": "2025-02-05T15:55:42.485757100Z"
    }
   },
   "outputs": [],
   "source": [
    "def evaluate(tasks, berts, domains, runs=10):\n",
    "    for task in tasks:\n",
    "        for bert in berts:\n",
    "            for domain in domains:            \n",
    "                scores=[]\n",
    "                for run in range(1, runs+1):\n",
    "                    DATA_DIR=os.path.join(task, domain)\n",
    "                    DATA_DIR=os.path.join(\"../\", DATA_DIR)\n",
    "                    OUTPUT_DIR=os.path.join(\"../run\", bert+\"_\"+task, domain, str(run) )\n",
    "                    print(os.path.join(OUTPUT_DIR, \"predictions.json\") )\n",
    "                    if os.path.exists(os.path.join(OUTPUT_DIR, \"predictions.json\") ):\n",
    "                        if \"rrc\" in task:\n",
    "                            ret=!python eval/evaluate-v1.1.py $DATA_DIR/test.json $OUTPUT_DIR/predictions.json\n",
    "                            score=json.loads(ret[0])\n",
    "                            scores.append([score[\"exact_match\"], score[\"f1\"] ] )\n",
    "                        elif \"ae\" in task:\n",
    "                            ret=!python eval/evaluate_ae.py --pred_json $OUTPUT_DIR/predictions.json\n",
    "                            scores.append(float(ret[0])*100 )\n",
    "                        elif \"asc\" in task:\n",
    "                            with open(os.path.join(OUTPUT_DIR, \"predictions.json\") ) as f:\n",
    "                                results=json.load(f)\n",
    "                            y_true=results['label_ids']\n",
    "                            y_pred=[np.argmax(logit) for logit in results['logits'] ]\n",
    "                            p_macro, r_macro, f_macro, _=sklearn.metrics.precision_recall_fscore_support(y_true, y_pred, average='macro')\n",
    "                            f_macro = 2*p_macro*r_macro/(p_macro+r_macro)\n",
    "                            scores.append([100*sklearn.metrics.accuracy_score(y_true, y_pred), 100*f_macro ] )\n",
    "                        else:\n",
    "                            raise Exception(\"unknown task\")\n",
    "                    else:\n",
    "                        print(\"failure\")\n",
    "                scores=np.array(scores)\n",
    "                m=scores.mean(axis=0)\n",
    "                \n",
    "                if len(scores.shape)>1:\n",
    "                    for iz, score in enumerate(m):\n",
    "                        print(task, \":\", bert, domain, \"metric\", iz, round(score, 2) )\n",
    "                else:\n",
    "                    print(task, \":\", bert, domain, round(m,2) )\n",
    "                print"
   ]
  },
  {
   "cell_type": "code",
   "outputs": [],
   "source": [
    "DATA_DIR=\"C:/Users/James/Documents/BERT-for-RRC-ABSA/pytorch-pretrained-bert/rrc/laptop/test.json\"\n",
    "OUTPUT_DIR=\"C:/Users/James/Documents/BERT-for-RRC-ABSA/pytorch-pretrained-bert/run/laptop_pt_rrc/laptop/1/predictions.json\""
   ],
   "metadata": {
    "collapsed": false,
    "ExecuteTime": {
     "end_time": "2025-02-10T14:44:33.139476700Z",
     "start_time": "2025-02-10T14:44:33.131893900Z"
    }
   },
   "execution_count": 1
  },
  {
   "cell_type": "code",
   "outputs": [
    {
     "name": "stdout",
     "output_type": "stream",
     "text": [
      "{\"exact_match\": 49.002849002849004, \"f1\": 64.51567494647648}\n"
     ]
    }
   ],
   "source": [
    "!python evaluate-v1.1.py $DATA_DIR $OUTPUT_DIR"
   ],
   "metadata": {
    "collapsed": false,
    "ExecuteTime": {
     "end_time": "2025-02-10T14:44:44.024972700Z",
     "start_time": "2025-02-10T14:44:43.955786400Z"
    }
   },
   "execution_count": 3
  },
  {
   "cell_type": "code",
   "outputs": [
    {
     "ename": "NameError",
     "evalue": "name 'scores' is not defined",
     "output_type": "error",
     "traceback": [
      "\u001B[1;31m---------------------------------------------------------------------------\u001B[0m",
      "\u001B[1;31mNameError\u001B[0m                                 Traceback (most recent call last)",
      "Cell \u001B[1;32mIn[18], line 1\u001B[0m\n\u001B[1;32m----> 1\u001B[0m scores\n",
      "\u001B[1;31mNameError\u001B[0m: name 'scores' is not defined"
     ]
    }
   ],
   "source": [],
   "metadata": {
    "collapsed": false,
    "ExecuteTime": {
     "end_time": "2025-02-05T15:49:59.308344700Z",
     "start_time": "2025-02-05T15:49:59.300059600Z"
    }
   },
   "execution_count": 18
  }
 ],
 "metadata": {
  "kernelspec": {
   "name": "bert_env",
   "language": "python",
   "display_name": "bert_env"
  },
  "language_info": {
   "codemirror_mode": {
    "name": "ipython",
    "version": 3
   },
   "file_extension": ".py",
   "mimetype": "text/x-python",
   "name": "python",
   "nbconvert_exporter": "python",
   "pygments_lexer": "ipython3",
   "version": "3.6.8"
  }
 },
 "nbformat": 4,
 "nbformat_minor": 2
}
